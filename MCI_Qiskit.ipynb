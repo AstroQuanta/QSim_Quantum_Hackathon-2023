{
 "cells": [
  {
   "cell_type": "markdown",
   "id": "1cf9cd21-0acb-4017-a53b-ac65b82f2956",
   "metadata": {},
   "source": [
    "# Amplitude Estimation without Quantum Fourier Transform and Controlled Grover Operators"
   ]
  },
  {
   "cell_type": "code",
   "execution_count": 20,
   "id": "ac29ff01-bb0e-443d-ba17-5f941831a7ef",
   "metadata": {
    "tags": []
   },
   "outputs": [],
   "source": [
    "# Importing standard Qiskit libraries\n",
    "from qiskit import QuantumCircuit, transpile\n",
    "from qiskit.tools.jupyter import *\n",
    "from qiskit.visualization import *\n",
    "from ibm_quantum_widgets import *\n",
    "\n",
    "# qiskit-ibmq-provider has been deprecated.\n",
    "# Please see the Migration Guides in https://ibm.biz/provider_migration_guide for more detail.\n",
    "from qiskit_ibm_runtime import QiskitRuntimeService, Sampler, Estimator, Session, Options\n",
    "\n",
    "# Loading your IBM Quantum account(s)\n",
    "service = QiskitRuntimeService(channel=\"ibm_quantum\")\n",
    "\n",
    "# Invoke a primitive. For more details see https://qiskit.org/documentation/partners/qiskit_ibm_runtime/tutorials.html\n",
    "# result = Sampler(\"ibmq_qasm_simulator\").run(circuits).result()"
   ]
  },
  {
   "cell_type": "markdown",
   "id": "12f3efea-b954-4a53-bda6-bfb0f06939d7",
   "metadata": {},
   "source": [
    "### Implementing circuits for Monte Carlo integration of sine functions\n",
    "\n",
    "Below are the functions to compute $\\mathcal{P}$, $\\mathcal{R}$, and their inverses."
   ]
  },
  {
   "cell_type": "code",
   "execution_count": 21,
   "id": "f05748d8-76ae-4041-b09c-c98103a7bbb5",
   "metadata": {
    "tags": []
   },
   "outputs": [],
   "source": [
    "def P(qc, qx, nbit):\n",
    "    \"\"\"\n",
    "        Generating uniform probability distribution\n",
    "            qc: quantum circuit\n",
    "            qx: quantum register\n",
    "            nbit: number of qubits\n",
    "        The inverse of P = P\n",
    "    \"\"\"\n",
    "    qc.h(qx)\n",
    "\n",
    "def R(qc, qx, qx_measure, nbit, b_max):\n",
    "    \"\"\"\n",
    "        Computing the integral function f()\n",
    "            qc: quantum circuit\n",
    "            qx: quantum register\n",
    "            qx_measure: quantum register for measurement\n",
    "            nbit: number of qubits\n",
    "            b_max: upper limit of integral            \n",
    "    \"\"\"\n",
    "    qc.ry(b_max / 2**nbit * 2 * 0.5, qx_measure)\n",
    "    for i in range(nbit):\n",
    "        qc.cu3(2**i * b_max / 2**nbit * 2, 0, 0, qx[i], qx_measure[0])\n",
    "\n",
    "def Rinv(qc, qx, qx_measure, nbit, b_max):\n",
    "    \"\"\"\n",
    "        The inverse of R\n",
    "            qc: quantum circuit\n",
    "            qx: quantum register\n",
    "            qx_measure : quantum register for measurement\n",
    "            nbit: number of qubits\n",
    "            b_max: upper limit of integral\n",
    "    \"\"\"\n",
    "    for i in range(nbit)[::-1]:\n",
    "        qc.cu3(-2**i * b_max / 2**nbit * 2, 0, 0, qx[i], qx_measure[0])\n",
    "    qc.ry(-b_max / 2**nbit * 2 * 0.5, qx_measure)"
   ]
  },
  {
   "cell_type": "markdown",
   "id": "7cdb3d3d-14fa-4588-8c67-29474d7c6ecc",
   "metadata": {},
   "source": [
    "### Grover Operators for Amplitude Estimation\n",
    "\n",
    "We can easily build quantum circuits for fast computation of the Monte Carlo integration as below. Here, we show functions to construct quantum circuits running with simulators. Running them on real devices should be easy by adjusting the parameters of the functions."
   ]
  },
  {
   "cell_type": "code",
   "execution_count": 22,
   "id": "be66f7e7-e06d-4cf0-867b-7d9ce0ef8be1",
   "metadata": {
    "tags": []
   },
   "outputs": [],
   "source": [
    "#Preparing qiskit environment\n",
    "from qiskit import ClassicalRegister, QuantumRegister, QuantumCircuit\n",
    "from qiskit import execute\n",
    "from qiskit import IBMQ\n",
    "from qiskit import Aer\n",
    "from scipy import optimize\n",
    "import sys, time\n",
    "import mpmath as mp\n",
    "import numpy as np\n",
    "import matplotlib.pyplot as plt"
   ]
  },
  {
   "cell_type": "code",
   "execution_count": 23,
   "id": "298002cb-cea1-4e78-964c-b8ddea435af0",
   "metadata": {
    "tags": []
   },
   "outputs": [],
   "source": [
    "# Functions to construct circuits for Grover operators\n",
    "def multi_control_NOT(qc, qx, qx_measure, qx_ancilla, nbit, b_max):\n",
    "    \"\"\"\n",
    "        Computing multi controlled NOT gate\n",
    "            qc: quantum circuit\n",
    "            qx: quantum register\n",
    "            qx_measure: quantum register for measurement\n",
    "            qx_ancilla: temporal quantum register for decomposing multi controlled NOT gate\n",
    "            nbit: number of qubits\n",
    "            b_max: upper limit of integral\n",
    "    \"\"\"\n",
    "\n",
    "    if nbit == 1:\n",
    "        qc.cz(qx[0], qx_measure[0])\n",
    "    elif nbit == 2:\n",
    "        qc.h(qx_measure[0])\n",
    "        qc.ccx(qx[0], qx[1], qx_measure[0])\n",
    "        qc.h(qx_measure[0])\n",
    "    elif nbit > 2.0:\n",
    "        qc.ccx(qx[0], qx[1], qx_ancilla[0])\n",
    "        for i in range(nbit - 3):\n",
    "            qc.ccx(qx[i + 2], qx_ancilla[i], qx_ancilla[i + 1])\n",
    "        qc.h(qx_measure[0])\n",
    "        qc.ccx(qx[nbit - 1], qx_ancilla[nbit - 3], qx_measure[0])\n",
    "        qc.h(qx_measure[0])\n",
    "        for i in range(nbit - 3)[::-1]:\n",
    "            qc.ccx(qx[i + 2], qx_ancilla[i], qx_ancilla[i + 1])\n",
    "        qc.ccx(qx[0], qx[1], qx_ancilla[0])\n",
    "\n",
    "\n",
    "def reflect(qc, qx, qx_measure, qx_ancilla, nbit, b_max):\n",
    "    \"\"\"\n",
    "        Computing reflection operator (I - 2|0><0|)\n",
    "            qc: quantum circuit\n",
    "            qx: quantum register\n",
    "            qx_measure: quantum register for measurement\n",
    "            qx_ancilla: temporal quantum register for decomposing multi controlled NOT gate\n",
    "            nbit: number of qubits\n",
    "            b_max: upper limit of integral\n",
    "    \"\"\"\n",
    "    for i in range(nbit):\n",
    "        qc.x(qx[i])\n",
    "    qc.x(qx_measure[0])\n",
    "    qc.barrier()    #format the circuits visualization\n",
    "    multi_control_NOT(qc, qx, qx_measure, qx_ancilla, nbit, b_max)\n",
    "    qc.barrier()    #format the circuits visualization\n",
    "    qc.x(qx_measure[0])\n",
    "    for i in range(nbit):\n",
    "        qc.x(qx[i])\n",
    "\n",
    "\n",
    "# This is to implement Grover Operator\n",
    "def Q_grover(qc, qx, qx_measure, qx_ancilla, nbit, b_max):\n",
    "    \"\"\"\n",
    "        The Grover operator: R P (I - 2|0><0|) P^+ R^+ U_psi_0 \n",
    "            qc: quantum circuit\n",
    "            qx: quantum register\n",
    "            qx_measure: quantum register for measurement\n",
    "            qx_ancilla: temporal quantum register for decomposing multi controlled NOT gate\n",
    "            nbit: number of qubits\n",
    "            b_max: upper limit of integral\n",
    "    \"\"\"\n",
    "    qc.z(qx_measure[0])\n",
    "    Rinv(qc, qx, qx_measure, nbit, b_max)\n",
    "    qc.barrier()    #format the circuits visualization\n",
    "    P(qc, qx, nbit)\n",
    "    reflect(qc, qx, qx_measure, qx_ancilla, nbit, b_max)\n",
    "    P(qc, qx, nbit)\n",
    "    qc.barrier()    #format the circuits visualization\n",
    "    R(qc, qx, qx_measure, nbit, b_max)"
   ]
  },
  {
   "cell_type": "markdown",
   "id": "e6b35fbf-5327-41de-a192-9237024e9b2a",
   "metadata": {},
   "source": [
    "## Amplitude Estimation without Phase Estimation\n",
    "\n",
    "To run the amplitude estimation without phase estimation, we must create quantum circuits that run Grover operators with various number of iterations. The function for creating such circuits is as the following."
   ]
  },
  {
   "cell_type": "code",
   "execution_count": 24,
   "id": "6ea5829d-fb99-41d9-b6e9-3b18e4d9b1b0",
   "metadata": {
    "tags": []
   },
   "outputs": [],
   "source": [
    "def create_grover_circuit(numebr_grover_list, nbit, b_max):\n",
    "    \"\"\"\n",
    "        To generate quantum circuits running Grover operators with number of iterations in number_grover_list\n",
    "            numebr_grover_list: list of number of Grover operators\n",
    "            nbit: number of qubits (2**nbit = ndiv is the number of discretization in the Monte Carlo integration)\n",
    "            b_max: upper limit of integral\n",
    "        Return:\n",
    "            qc_list: quantum circuits with Grover operators as in number_grover_list\n",
    "    \"\"\"\n",
    "    qc_list = []\n",
    "    for igrover in range(len(numebr_grover_list)):\n",
    "        qx = QuantumRegister(nbit)\n",
    "        qx_measure = QuantumRegister(1)\n",
    "        cr = ClassicalRegister(1)\n",
    "        if (nbit > 2):\n",
    "            qx_ancilla = QuantumRegister(nbit - 2)\n",
    "            qc = QuantumCircuit(qx, qx_ancilla, qx_measure, cr)\n",
    "        else:\n",
    "            qx_ancilla = 0\n",
    "            qc = QuantumCircuit(qx, qx_measure, cr)\n",
    "        P(qc, qx, nbit)\n",
    "        R(qc, qx, qx_measure, nbit, b_max)\n",
    "        for ikAA in range(numebr_grover_list[igrover]):\n",
    "            Q_grover(qc, qx, qx_measure, qx_ancilla, nbit, b_max)\n",
    "        qc.measure(qx_measure[0], cr[0])\n",
    "        qc_list.append(qc)\n",
    "    return qc_list"
   ]
  },
  {
   "cell_type": "markdown",
   "id": "8bc768d8-9ac4-4655-a7b7-f3e8db63f483",
   "metadata": {},
   "source": [
    "For example, quantum circuit with two Grover operators is shown below."
   ]
  },
  {
   "cell_type": "code",
   "execution_count": 25,
   "id": "9d9066bf-4edc-4a96-89ca-0b97c17ec3f9",
   "metadata": {
    "tags": []
   },
   "outputs": [
    {
     "name": "stdout",
     "output_type": "stream",
     "text": [
      "Traceback \u001b[1;36m(most recent call last)\u001b[0m:\n",
      "\u001b[1;36m  Cell \u001b[1;32mIn[25], line 1\u001b[1;36m\n",
      "\u001b[1;33m    qc_list = create_grover_circuit([2], nbit, b_max)\u001b[1;36m\n",
      "\u001b[1;31mNameError\u001b[0m\u001b[1;31m:\u001b[0m name 'nbit' is not defined\n",
      "\n",
      "Use %tb to get the full traceback.\n"
     ]
    },
    {
     "data": {
      "text/html": [
       "\n",
       "<style>\n",
       ".button {\n",
       "  border: none;\n",
       "  color: white;\n",
       "  padding: 4px 8px;\n",
       "  text-align: center;\n",
       "  text-decoration: none;\n",
       "  display: inline-block;\n",
       "  font-size: 12px;\n",
       "  margin: 4px 2px;\n",
       "  transition-duration: 0.2s;\n",
       "  cursor: pointer;\n",
       "}\n",
       ".iqx-button {\n",
       "  background-color: #0f62fe; \n",
       "  color: white; \n",
       "}\n",
       ".iqx-button:hover {\n",
       "  background-color: #0043ce;\n",
       "  color: white;\n",
       "}\n",
       "</style>\n",
       "<a href=\"https://stackoverflow.com/search?q=NameError: name 'nbit' is not defined\" target='_blank'><button class='button iqx-button'>Search for solution online</button></a>\n"
      ],
      "text/plain": [
       "<IPython.core.display.HTML object>"
      ]
     },
     "metadata": {},
     "output_type": "display_data"
    }
   ],
   "source": [
    "qc_list = create_grover_circuit([2], nbit, b_max)\n",
    "my_style = {'usepiformat': True, 'cregbundle': True,'compress': True }\n",
    "qc_list[0].draw(output=\"mpl\", style=my_style, plot_barriers=False )"
   ]
  },
  {
   "cell_type": "markdown",
   "id": "cb0aa1ff-f31a-4fbe-a573-f89d38792943",
   "metadata": {},
   "source": [
    "We also need a helper function to simultaneously run the quantum circuits that are returned by the above functions, as below."
   ]
  },
  {
   "cell_type": "code",
   "execution_count": 26,
   "id": "591c0858-4ae0-4a03-8369-c210ec3139d4",
   "metadata": {
    "tags": []
   },
   "outputs": [],
   "source": [
    "def run_grover(qc_list, number_grover_list, shots_list, backend):\n",
    "    \"\"\"\n",
    "        Run the quantum circuits returned by create_grover_circuit()\n",
    "            qc_list: list of quantum circuits\n",
    "            numebr_grover_list: list of number of Grover operators\n",
    "            shots_list:  list of number of shots\n",
    "            backend: name of backends\n",
    "        \n",
    "        Return:\n",
    "            hit_list: list of count of obserbving \"1\" for qc_list\n",
    "    \"\"\"\n",
    "    hit_list = []\n",
    "    for k in range(len(number_grover_list)):\n",
    "        job = execute(qc_list[k], backend=backend, shots=shots_list[k])\n",
    "        lapse = 0\n",
    "        interval = 0.00001\n",
    "        time.sleep(interval)\n",
    "        while job.status().name != 'DONE':\n",
    "            time.sleep(interval)\n",
    "            lapse += 1\n",
    "        counts = job.result().get_counts(qc_list[k]).get(\"1\", 0)\n",
    "        hit_list.append(counts)\n",
    "    return hit_list"
   ]
  },
  {
   "cell_type": "markdown",
   "id": "b555f88a-c9eb-4fa4-95cd-31eedd8a444a",
   "metadata": {},
   "source": [
    "### Post processing to estimate the amplitude from results of various Grover Circuits\n",
    "\n",
    "At the heart of the techniques to estimate the amplitude without QFT and controlled Grover operators is a post processing function that combines the results of running Grover circuits with various number of iterations. Suppose we run Grover operators for $\\{m_0, m_1, \\ldots, m_M\\}$ times and for each of the $m_k$ run, we repeat it for $N_k$ times (i.e., the number of shots) of which we observe $h_k$ times of \"good\" states. Because the probability of observing \"good\" states is $\\sin^2((2m_k + 1)\\theta_a)$, the likelihood of observing $h_k$ times of \"good\" states is \n",
    "$$\n",
    "L_k(h_k;\\theta_a) = \\left( \\sin^2((2m_k + 1)\\theta_a) \\right)^{h_k} \\left( \\cos^2((2m_k + 1)\\theta_a) \\right)^{N_k - h_k}. \n",
    "$$\n",
    "\n",
    "When we have observation of good states as $\\mathbf{h} = \\{h_0, h_1, \\ldots, h_M\\}$, the likelihood function becomes\n",
    "$$\n",
    "L(\\mathbf{h};\\theta_a) = \\prod_{k=0}^M L_k(h_k;\\theta_a). \n",
    "$$\n",
    "\n",
    "From this, we can find an optimal value of $\\tilde{\\theta}_a$  that maximizes the above likelihood function, namely, \n",
    "$$\n",
    "\\tilde{\\theta}_a = \\mbox{arg}~\\mbox{max}_{\\theta} L(\\mathbf{h};\\theta_a).\n",
    "$$\n",
    "\n",
    "\n",
    "The function below is to compute such an optimal $\\tilde{\\theta}_a$."
   ]
  },
  {
   "cell_type": "code",
   "execution_count": 27,
   "id": "28981acb-7191-4bdf-88da-4e7550ed6d51",
   "metadata": {
    "tags": []
   },
   "outputs": [],
   "source": [
    "def calculate_theta(hit_list, number_grover_list, shots_list):\n",
    "    \"\"\"\n",
    "        calculate optimal theta values\n",
    "            hit_list: list of count of obserbving \"1\" for qc_list\n",
    "            numebr_grover_list: list of number of Grover operators        \n",
    "            shots_list: list of number of shots\n",
    "\n",
    "        Return:\n",
    "            thetaCandidate_list: list of optimal theta\n",
    "    \"\"\"\n",
    "\n",
    "    small = 1.e-15  # small valued parameter to avoid zero division\n",
    "    confidenceLevel = 5  # confidence level to determine the search range\n",
    "\n",
    "    thetaCandidate_list = []\n",
    "    rangeMin = 0.0 + small\n",
    "    rangeMax = 1.0 - small\n",
    "    for igrover in range(len(number_grover_list)):\n",
    "\n",
    "        def loglikelihood(p):\n",
    "            ret = np.zeros_like(p)\n",
    "            theta = np.arcsin(np.sqrt(p))\n",
    "            for n in range(igrover + 1):\n",
    "                ihit = hit_list[n]\n",
    "                arg = (2 * number_grover_list[n] + 1) * theta\n",
    "                ret = ret + 2 * ihit * np.log(np.abs(np.sin(arg))) + 2 * (\n",
    "                    shots_list[n] - ihit) * np.log(np.abs(np.cos(arg)))\n",
    "            return -ret\n",
    "\n",
    "        searchRange = (rangeMin, rangeMax)\n",
    "        searchResult = optimize.brute(loglikelihood, [searchRange])\n",
    "        pCandidate = searchResult[0]\n",
    "        thetaCandidate_list.append(np.arcsin(np.sqrt(pCandidate)))\n",
    "        perror = CalcErrorCramérRao(igrover, shots_list, pCandidate, number_grover_list)\n",
    "        rangeMax = min(pCandidate+confidenceLevel*perror,1.0 - small)\n",
    "        rangeMin = max(pCandidate-confidenceLevel*perror,0.0 + small)\n",
    "    return thetaCandidate_list"
   ]
  },
  {
   "cell_type": "markdown",
   "id": "6d4b5935-fd74-4fa6-8501-4980c1080644",
   "metadata": {},
   "source": [
    "## Testing the algorithm with simulators\n",
    "\n",
    "Let us run the algorithm with simulators"
   ]
  },
  {
   "cell_type": "code",
   "execution_count": 29,
   "id": "ae90ddfc-a67a-440a-9a79-57218b62efa4",
   "metadata": {
    "tags": []
   },
   "outputs": [],
   "source": [
    "#setting the number of shots and Grover operators.\n",
    "\n",
    "shots_list = [100, 100, 100, 100, 100, 100, 100]  # list of number of shots\n",
    "number_grover_list = [0, 1, 2, 4, 8, 16, 32]  # list of number of Grover operators\n",
    "if len(shots_list) != len(number_grover_list):\n",
    "    raise Exception(\n",
    "        'The length of shots_list should be equal to the length of number_grover_list.'\n",
    "    )\n",
    "\n",
    "backend = Aer.get_backend('qasm_simulator')"
   ]
  },
  {
   "cell_type": "code",
   "execution_count": null,
   "id": "80444654-b52b-44b4-8fa3-5d2b6154ea2b",
   "metadata": {},
   "outputs": [],
   "source": []
  }
 ],
 "metadata": {
  "kernelspec": {
   "display_name": "Python 3 (ipykernel)",
   "language": "python",
   "name": "python3"
  },
  "language_info": {
   "codemirror_mode": {
    "name": "ipython",
    "version": 3
   },
   "file_extension": ".py",
   "mimetype": "text/x-python",
   "name": "python",
   "nbconvert_exporter": "python",
   "pygments_lexer": "ipython3",
   "version": "3.10.8"
  },
  "widgets": {
   "application/vnd.jupyter.widget-state+json": {
    "state": {
     "118b80d105644be18c5eb76a5e0f3c3a": {
      "model_module": "@jupyter-widgets/controls",
      "model_module_version": "2.0.0",
      "model_name": "HTMLStyleModel",
      "state": {
       "description_width": "",
       "font_size": null,
       "text_color": null
      }
     },
     "2a93ed1e4e2c491da053ece81a583607": {
      "model_module": "@jupyter-widgets/controls",
      "model_module_version": "2.0.0",
      "model_name": "HTMLModel",
      "state": {
       "layout": "IPY_MODEL_432a26f739a846b4809adb50c6e2bdd8",
       "style": "IPY_MODEL_7f082059ba6a4f40998a8f5d8b9a8747",
       "value": "<h5>Queue</h5>"
      }
     },
     "2c606e7dc9f545619addcd77a36e6e0a": {
      "model_module": "@jupyter-widgets/controls",
      "model_module_version": "2.0.0",
      "model_name": "HTMLStyleModel",
      "state": {
       "description_width": "",
       "font_size": null,
       "text_color": null
      }
     },
     "366f6350d87c40f99a2253c2e9c39800": {
      "model_module": "@jupyter-widgets/controls",
      "model_module_version": "2.0.0",
      "model_name": "HTMLModel",
      "state": {
       "layout": "IPY_MODEL_8a79ffe0c88c4ebba30eeb956bd39c81",
       "style": "IPY_MODEL_4ee19b56ad1942dabab123d6b8582fba",
       "value": "<h5>Backend</h5>"
      }
     },
     "39ccdbfedf1648398f79ca1a4e7220d3": {
      "model_module": "@jupyter-widgets/base",
      "model_module_version": "2.0.0",
      "model_name": "LayoutModel",
      "state": {
       "grid_template_areas": "\n                                       \". . . . right \"\n                                        ",
       "grid_template_columns": "20% 20% 20% 20% 20%",
       "width": "100%"
      }
     },
     "405562152baa42628fd20370c085f37e": {
      "model_module": "@jupyter-widgets/base",
      "model_module_version": "2.0.0",
      "model_name": "LayoutModel",
      "state": {
       "width": "95px"
      }
     },
     "432a26f739a846b4809adb50c6e2bdd8": {
      "model_module": "@jupyter-widgets/base",
      "model_module_version": "2.0.0",
      "model_name": "LayoutModel",
      "state": {
       "width": "70px"
      }
     },
     "4ee19b56ad1942dabab123d6b8582fba": {
      "model_module": "@jupyter-widgets/controls",
      "model_module_version": "2.0.0",
      "model_name": "HTMLStyleModel",
      "state": {
       "description_width": "",
       "font_size": null,
       "text_color": null
      }
     },
     "54a025415a64422e8f71266241e48f81": {
      "model_module": "@jupyter-widgets/controls",
      "model_module_version": "2.0.0",
      "model_name": "ButtonStyleModel",
      "state": {
       "font_family": null,
       "font_size": null,
       "font_style": null,
       "font_variant": null,
       "font_weight": null,
       "text_color": null,
       "text_decoration": null
      }
     },
     "5f066099913e4992b40e96f1abdfa479": {
      "model_module": "@jupyter-widgets/base",
      "model_module_version": "2.0.0",
      "model_name": "LayoutModel",
      "state": {
       "grid_area": "right",
       "padding": "0px 0px 0px 0px",
       "width": "70px"
      }
     },
     "63853e0ee60f4a578d3ce1a7580e0d0a": {
      "model_module": "@jupyter-widgets/controls",
      "model_module_version": "2.0.0",
      "model_name": "HTMLStyleModel",
      "state": {
       "description_width": "",
       "font_size": null,
       "text_color": null
      }
     },
     "6529678383874d9a97e727dbd3726cac": {
      "model_module": "@jupyter-widgets/base",
      "model_module_version": "2.0.0",
      "model_name": "LayoutModel",
      "state": {
       "margin": "0px 0px 10px 0px"
      }
     },
     "78c7d3270935471d835b3044f8f261c3": {
      "model_module": "@jupyter-widgets/controls",
      "model_module_version": "2.0.0",
      "model_name": "HTMLStyleModel",
      "state": {
       "description_width": "",
       "font_size": null,
       "text_color": null
      }
     },
     "7f082059ba6a4f40998a8f5d8b9a8747": {
      "model_module": "@jupyter-widgets/controls",
      "model_module_version": "2.0.0",
      "model_name": "HTMLStyleModel",
      "state": {
       "description_width": "",
       "font_size": null,
       "text_color": null
      }
     },
     "8a79ffe0c88c4ebba30eeb956bd39c81": {
      "model_module": "@jupyter-widgets/base",
      "model_module_version": "2.0.0",
      "model_name": "LayoutModel",
      "state": {
       "width": "145px"
      }
     },
     "8d405075b4224120ad9128de73b2088f": {
      "model_module": "@jupyter-widgets/controls",
      "model_module_version": "2.0.0",
      "model_name": "HBoxModel",
      "state": {
       "children": [
        "IPY_MODEL_d09e8a96ead54b109f5e2b3170248e7d",
        "IPY_MODEL_366f6350d87c40f99a2253c2e9c39800",
        "IPY_MODEL_a92b1c87c4b44771824b85ec354c8a1b",
        "IPY_MODEL_2a93ed1e4e2c491da053ece81a583607",
        "IPY_MODEL_dd4cdb78625249a3b2c8446cc95d0015"
       ],
       "layout": "IPY_MODEL_f0c154715b5b41d8a9802ae40965f5ce"
      }
     },
     "90cf5f5a9bf94cf699b5770714a9a3fd": {
      "model_module": "@jupyter-widgets/controls",
      "model_module_version": "2.0.0",
      "model_name": "GridBoxModel",
      "state": {
       "children": [
        "IPY_MODEL_d2e07bae0a6a4bf9a4c985934c7f5f27"
       ],
       "layout": "IPY_MODEL_39ccdbfedf1648398f79ca1a4e7220d3"
      }
     },
     "a92b1c87c4b44771824b85ec354c8a1b": {
      "model_module": "@jupyter-widgets/controls",
      "model_module_version": "2.0.0",
      "model_name": "HTMLModel",
      "state": {
       "layout": "IPY_MODEL_405562152baa42628fd20370c085f37e",
       "style": "IPY_MODEL_63853e0ee60f4a578d3ce1a7580e0d0a",
       "value": "<h5>Status</h5>"
      }
     },
     "aaa0570271fe4039b4be983151a01628": {
      "model_module": "@jupyter-widgets/base",
      "model_module_version": "2.0.0",
      "model_name": "LayoutModel",
      "state": {
       "width": "190px"
      }
     },
     "b92116a6812346a0866d095eea8561b3": {
      "model_module": "@jupyter-widgets/base",
      "model_module_version": "2.0.0",
      "model_name": "LayoutModel",
      "state": {}
     },
     "c79a839eb7414cb284d68bb26a65e630": {
      "model_module": "@jupyter-widgets/controls",
      "model_module_version": "2.0.0",
      "model_name": "HTMLModel",
      "state": {
       "layout": "IPY_MODEL_6529678383874d9a97e727dbd3726cac",
       "style": "IPY_MODEL_2c606e7dc9f545619addcd77a36e6e0a",
       "value": "<p style='font-family: IBM Plex Sans, Arial, Helvetica, sans-serif; font-size: 20px; font-weight: medium;'>Circuit Properties</p>"
      }
     },
     "d09e8a96ead54b109f5e2b3170248e7d": {
      "model_module": "@jupyter-widgets/controls",
      "model_module_version": "2.0.0",
      "model_name": "HTMLModel",
      "state": {
       "layout": "IPY_MODEL_aaa0570271fe4039b4be983151a01628",
       "style": "IPY_MODEL_78c7d3270935471d835b3044f8f261c3",
       "value": "<h5>Job ID</h5>"
      }
     },
     "d2e07bae0a6a4bf9a4c985934c7f5f27": {
      "model_module": "@jupyter-widgets/controls",
      "model_module_version": "2.0.0",
      "model_name": "ButtonModel",
      "state": {
       "button_style": "primary",
       "description": "Clear",
       "layout": "IPY_MODEL_5f066099913e4992b40e96f1abdfa479",
       "style": "IPY_MODEL_54a025415a64422e8f71266241e48f81",
       "tooltip": null
      }
     },
     "dd4cdb78625249a3b2c8446cc95d0015": {
      "model_module": "@jupyter-widgets/controls",
      "model_module_version": "2.0.0",
      "model_name": "HTMLModel",
      "state": {
       "layout": "IPY_MODEL_b92116a6812346a0866d095eea8561b3",
       "style": "IPY_MODEL_118b80d105644be18c5eb76a5e0f3c3a",
       "value": "<h5>Message</h5>"
      }
     },
     "f0c154715b5b41d8a9802ae40965f5ce": {
      "model_module": "@jupyter-widgets/base",
      "model_module_version": "2.0.0",
      "model_name": "LayoutModel",
      "state": {
       "margin": "0px 0px 0px 37px",
       "width": "600px"
      }
     }
    },
    "version_major": 2,
    "version_minor": 0
   }
  }
 },
 "nbformat": 4,
 "nbformat_minor": 5
}
